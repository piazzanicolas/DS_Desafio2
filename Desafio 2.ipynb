{
 "cells": [
  {
   "cell_type": "markdown",
   "metadata": {},
   "source": [
    "# Template de análisis y entrenamiento de modelos"
   ]
  },
  {
   "cell_type": "code",
   "execution_count": null,
   "metadata": {},
   "outputs": [],
   "source": [
    "import pandas as pd\n",
    "import numpy as np\n",
    "import re\n",
    "import seaborn as sns\n",
    "import matplotlib.pyplot as plt\n",
    "import math\n",
    "import re\n",
    "from sklearn.model_selection import train_test_split, KFold\n",
    "from sklearn.metrics import r2_score\n",
    "from sklearn.preprocessing import OneHotEncoder\n",
    "from sklearn import linear_model\n",
    "from sklearn.linear_model import ElasticNetCV, LassoCV, RidgeClassifierCV, LinearRegression\n",
    "import statsmodels.formula.api as smf\n",
    "import statsmodels.api as sm"
   ]
  },
  {
   "cell_type": "code",
   "execution_count": null,
   "metadata": {},
   "outputs": [],
   "source": [
    "#LINK DE DESCARGA DEL CSV\n",
    "#https://drive.google.com/file/d/15Ofxvl8CbGrq2BjwmE7GjRCMR_YixKb4/view\n",
    "data_location = \"./properati.csv\"\n",
    "\n",
    "data = pd.read_csv(data_location, sep=\",\")\n",
    "df = pd.read_csv(data_location, sep=\",\")\n",
    "\n",
    "df.drop(['operation', 'Unnamed: 0','geonames_id','lat-lon','lat','lon','properati_url','image_thumbnail', 'price_aprox_local_currency', \"expenses\", \"floor\"], axis=1, inplace=True)\n",
    "df.dtypes"
   ]
  },
  {
   "cell_type": "markdown",
   "metadata": {},
   "source": [
    "## Cantidad de nulos iniciales en el dataframe"
   ]
  },
  {
   "cell_type": "code",
   "execution_count": null,
   "metadata": {},
   "outputs": [],
   "source": [
    "df.isnull().sum()"
   ]
  },
  {
   "cell_type": "markdown",
   "metadata": {},
   "source": [
    "## Inicio de Etapa de Busqueda de Datos\n",
    "### Búsqueda de M2 en description"
   ]
  },
  {
   "cell_type": "code",
   "execution_count": null,
   "metadata": {},
   "outputs": [],
   "source": [
    "m2_pattern = \"\\s(?P<metros>\\d{0,3}?[.]?\\d*)\\s?(?P<sufijo>m2|M2|metros|mts|m²)\"\n",
    "m2_regex =  re.compile(m2_pattern)\n",
    "m2_match = df.description.apply(lambda x: x if x is np.NaN else m2_regex.search(x))\n",
    "m2_match_mask = m2_match.notnull()\n",
    "df.loc[m2_match_mask, \"M2\"] = m2_match[m2_match_mask].apply(lambda x: x.group(\"metros\"))"
   ]
  },
  {
   "cell_type": "markdown",
   "metadata": {},
   "source": [
    "### Búsqueda de ambientes en description"
   ]
  },
  {
   "cell_type": "code",
   "execution_count": null,
   "metadata": {},
   "outputs": [],
   "source": [
    "rooms_pattern = \"\\s(?P<ambientes>\\d\\d?)(\\s?)(?P<sufijo>AMB|amb|Amb)\"\n",
    "rooms_regex =  re.compile(rooms_pattern)\n",
    "\n",
    "rooms_match = df.description.apply(lambda x: x if x is np.NaN else rooms_regex.search(x))\n",
    "rooms_match_mask = rooms_match.notnull()\n",
    "df.loc[rooms_match_mask, \"Ambientes\"] = rooms_match[rooms_match_mask].apply(lambda x: x.group(\"ambientes\"))"
   ]
  },
  {
   "cell_type": "markdown",
   "metadata": {},
   "source": [
    "### Ubicación"
   ]
  },
  {
   "cell_type": "code",
   "execution_count": null,
   "metadata": {},
   "outputs": [],
   "source": [
    "df[\"place_name\"].fillna(value=\"Tigre\", inplace=True)"
   ]
  },
  {
   "cell_type": "code",
   "execution_count": null,
   "metadata": {},
   "outputs": [],
   "source": [
    "df['place_with_parent_names_clean'] = df['place_with_parent_names']\n",
    "\n",
    "total_place = df['place_with_parent_names_clean'].apply(lambda row: len(row.split('|'))-2)\n",
    "dic_ret = dict()\n",
    "for i in range(total_place.max()):\n",
    "    dic_ret['place_'+ str(i)] = ([None] * total_place.shape[0])"
   ]
  },
  {
   "cell_type": "code",
   "execution_count": null,
   "metadata": {},
   "outputs": [],
   "source": [
    "for row in df['place_with_parent_names_clean'].index:\n",
    "    i=0;\n",
    "    list_places = df['place_with_parent_names_clean'].loc[row].split('|')\n",
    "    for x in list_places:\n",
    "        if len(x)>0:\n",
    "            colname='place_' + str(i)\n",
    "            dic_ret[colname][row] = x\n",
    "            i+=1"
   ]
  },
  {
   "cell_type": "code",
   "execution_count": null,
   "metadata": {},
   "outputs": [],
   "source": [
    "new_columns = pd.DataFrame(dic_ret)\n",
    "df = df.join(new_columns)"
   ]
  },
  {
   "cell_type": "code",
   "execution_count": null,
   "metadata": {},
   "outputs": [],
   "source": [
    "df[['country_name','state_name','place_name','place_0','place_1','place_2','place_3','place_4']].sample(10)"
   ]
  },
  {
   "cell_type": "code",
   "execution_count": null,
   "metadata": {},
   "outputs": [],
   "source": [
    "df[['Provincia','Ciudad','Departamento','Barrio']] = df[['place_1','place_2','place_3','place_4']]"
   ]
  },
  {
   "cell_type": "code",
   "execution_count": null,
   "metadata": {},
   "outputs": [],
   "source": [
    "df.drop(columns=[\"place_0\", \"place_4\", 'place_1','place_2','place_3'], inplace=True)"
   ]
  },
  {
   "cell_type": "code",
   "execution_count": null,
   "metadata": {},
   "outputs": [],
   "source": [
    "df['Departamento'] = df['Departamento'].fillna(\"_\")\n",
    "df['Barrio'] = df['Barrio'].fillna(\"_\")\n",
    "df['Localidad'] = df['Ciudad']+df['Departamento']+df['Barrio']\n",
    "df[['Localidad','Ciudad','Departamento','Barrio']].head(5)"
   ]
  },
  {
   "cell_type": "markdown",
   "metadata": {},
   "source": [
    "### Ambientes"
   ]
  },
  {
   "cell_type": "code",
   "execution_count": null,
   "metadata": {},
   "outputs": [],
   "source": [
    "df[\"rooms_final\"] = df[\"rooms\"]\n",
    "df[\"Ambientes\"] = df[\"Ambientes\"].astype(float)\n",
    "df.loc[(pd.isnull(df[\"rooms_final\"])),\"rooms_final\"] = df[\"Ambientes\"]\n",
    "print('Cantidad rooms null en df inicial:', df[\"rooms\"].isnull().sum())\n",
    "print('Cantidad rooms null en df trabajado:', df[\"rooms_final\"].isnull().sum())"
   ]
  },
  {
   "cell_type": "markdown",
   "metadata": {},
   "source": [
    "#### Limpieza de Outliers"
   ]
  },
  {
   "cell_type": "code",
   "execution_count": null,
   "metadata": {},
   "outputs": [],
   "source": [
    "maskNotNull_Rooms = df['rooms_final'].notnull()\n",
    "f, ax = plt.subplots()\n",
    "f.set_figwidth(12)\n",
    "f.set_figheight(7)\n",
    "sns.boxplot(x=df.loc[maskNotNull_Rooms,'property_type'],y=df.loc[maskNotNull_Rooms,'rooms_final'])\n",
    "plt.title(\"Distribución de cuartos según propiedad\",fontsize=15)\n",
    "plt.xlabel(\"Tipo de propiedad\",fontsize=11)\n",
    "plt.ylabel(\"Cuartos\",fontsize=11)"
   ]
  },
  {
   "cell_type": "code",
   "execution_count": null,
   "metadata": {},
   "outputs": [],
   "source": [
    "df['outliers_rooms'] = None\n",
    "for i in df['property_type'].unique():\n",
    "    rangoInterquartil_rooms= df.loc[df['property_type']==i,'rooms_final'].quantile(0.75) - df.loc[df['property_type']==i,'rooms_final'].quantile(0.25)\n",
    "    umbral_lower_rooms = df.loc[df['property_type']==i,'rooms_final'].quantile(0.25) - rangoInterquartil_rooms*1.5\n",
    "    umbral_upper_rooms = df.loc[df['property_type']==i,'rooms_final'].quantile(0.75) + rangoInterquartil_rooms*1.5\n",
    "\n",
    "\n",
    "    df.loc[maskNotNull_Rooms & (df['property_type']==i), 'outliers_rooms']= df.loc[maskNotNull_Rooms & (df['property_type']==i), 'rooms_final'].apply\\\n",
    "                                                                                    (lambda x: \"Outlier superior\" if x >umbral_upper_rooms else(\n",
    "                                                                                 \"Outlier inferior\" if x<umbral_lower_rooms else \n",
    "                                                                                 \"No es outlier\"))\n",
    "\n",
    "outliers_rooms = df['outliers_rooms']\n",
    "df = df.drop(columns = ['outliers_rooms'])\n",
    "pd.DataFrame(round((outliers_rooms.value_counts() / outliers_rooms[maskNotNull_Rooms].shape[0])*100,1))\n",
    "\n",
    "maskOutliers= outliers_rooms !=\"No es outlier\"\n",
    "df.loc[maskOutliers,'rooms_final'] = np.NaN"
   ]
  },
  {
   "cell_type": "code",
   "execution_count": null,
   "metadata": {},
   "outputs": [],
   "source": [
    "f, ax = plt.subplots()\n",
    "f.set_figwidth(12)\n",
    "f.set_figheight(7)\n",
    "sns.boxplot(x=df.loc[maskNotNull_Rooms,'property_type'],y=df.loc[maskNotNull_Rooms,'rooms_final'])\n",
    "plt.title(\"Distribución de cuartos según propiedad\",fontsize=15)\n",
    "plt.xlabel(\"Tipo de propiedad\",fontsize=11)\n",
    "plt.ylabel(\"Cuartos\",fontsize=11)"
   ]
  },
  {
   "cell_type": "markdown",
   "metadata": {},
   "source": [
    "#### Imputacion de ambientes por el promedio por propiedad"
   ]
  },
  {
   "cell_type": "code",
   "execution_count": null,
   "metadata": {},
   "outputs": [],
   "source": [
    "rooms_property_mean = pd.DataFrame(df.groupby(by=\"property_type\")[\"rooms_final\"].mean())\n",
    "rooms_property_mean.columns = ['rooms_clean_mean']\n",
    "rooms_property_mean['rooms_clean_mean'] = rooms_property_mean['rooms_clean_mean'].apply(lambda x: math.floor(x))"
   ]
  },
  {
   "cell_type": "code",
   "execution_count": null,
   "metadata": {},
   "outputs": [],
   "source": [
    "df = df.merge(rooms_property_mean, on=\"property_type\")"
   ]
  },
  {
   "cell_type": "code",
   "execution_count": null,
   "metadata": {},
   "outputs": [],
   "source": [
    "rooms_null = df[\"rooms_final\"].isnull()"
   ]
  },
  {
   "cell_type": "code",
   "execution_count": null,
   "metadata": {},
   "outputs": [],
   "source": [
    "df.loc[rooms_null,'rooms_final'] = df.loc[rooms_null,'rooms_clean_mean'] \n",
    "df = df.drop(columns=['rooms_clean_mean'])"
   ]
  },
  {
   "cell_type": "code",
   "execution_count": null,
   "metadata": {},
   "outputs": [],
   "source": [
    "print('Cantidad rooms null en df despues de la imputacion:', df[\"rooms_final\"].isnull().sum())"
   ]
  },
  {
   "cell_type": "markdown",
   "metadata": {},
   "source": [
    "## m2"
   ]
  },
  {
   "cell_type": "code",
   "execution_count": null,
   "metadata": {},
   "outputs": [],
   "source": [
    "df[\"M2\"].replace(to_replace = \"\", value= np.NaN, inplace = True)\n",
    "df[\"M2\"] = df[\"M2\"].astype(float)"
   ]
  },
  {
   "cell_type": "code",
   "execution_count": null,
   "metadata": {},
   "outputs": [],
   "source": [
    "df['surface_total_in_m2_clean'] = df['surface_total_in_m2']"
   ]
  },
  {
   "cell_type": "code",
   "execution_count": null,
   "metadata": {},
   "outputs": [],
   "source": [
    "maskNotNull_TotalAndCovered = df['surface_covered_in_m2'].notnull() & df['surface_total_in_m2'].notnull()\n",
    "df[\"covered_pct\"] = df.loc[maskNotNull_TotalAndCovered, 'surface_covered_in_m2'] / df.loc[maskNotNull_TotalAndCovered, 'surface_total_in_m2'] \n",
    "df[\"covered_pct\"] = df['covered_pct'].apply(lambda x: 1 if x>1 else x)\n",
    "meanByProperty = pd.DataFrame(df.groupby('property_type')['covered_pct'].mean())\n",
    "meanByProperty.columns = ['covered_pct_mean']\n",
    "print(\"Las casas son las que menos metros cuadrados tienen cubierto\")\n",
    "meanByProperty.sort_values(by = 'covered_pct_mean', ascending=False)"
   ]
  },
  {
   "cell_type": "code",
   "execution_count": null,
   "metadata": {},
   "outputs": [],
   "source": [
    "df = df.merge(meanByProperty, on='property_type')"
   ]
  },
  {
   "cell_type": "code",
   "execution_count": null,
   "metadata": {},
   "outputs": [],
   "source": [
    "maskFill = df['surface_covered_in_m2'].notnull() & df['surface_total_in_m2'].isnull()\n",
    "surface_total_parche = df.loc[maskFill,'surface_covered_in_m2'] / df.loc[maskFill,'covered_pct_mean']\n",
    "df.loc[maskFill, 'surface_total_in_m2_clean'] = surface_total_parche[maskFill] "
   ]
  },
  {
   "cell_type": "code",
   "execution_count": null,
   "metadata": {},
   "outputs": [],
   "source": [
    "df['metros1'] = df[(df['surface_total_in_m2_clean'].notnull()) & (df['M2'].isnull())][\"surface_total_in_m2_clean\"]\n",
    "df['metros2'] = df[(df['surface_total_in_m2_clean'].isnull()) & (df['M2'].notnull())]['M2']\n",
    "df['metros3'] = df[(df['surface_total_in_m2_clean'].notnull()) & (df['M2'].notnull())]['surface_total_in_m2_clean']\n",
    "\n",
    "df[\"metros1\"].fillna(0, inplace=True)\n",
    "df[\"metros2\"].fillna(0, inplace=True)\n",
    "df[\"metros3\"].fillna(0, inplace=True)\n",
    "\n",
    "df['m2_final'] = df.apply(lambda x: x['metros1'] + x['metros2'] + x[\"metros3\"], axis=1)\n",
    "\n",
    "df[\"m2_final\"].replace(to_replace = 0, value= np.NaN, inplace = True)\n",
    "\n",
    "df.drop(columns = [\"metros1\", \"metros2\", \"metros3\"], inplace = True)"
   ]
  },
  {
   "cell_type": "code",
   "execution_count": null,
   "metadata": {},
   "outputs": [],
   "source": [
    "df['m2_final'] = df['m2_final'].apply(lambda x: np.NaN if x < 20 else x)"
   ]
  },
  {
   "cell_type": "markdown",
   "metadata": {},
   "source": [
    "#### Limpieza de Outliers"
   ]
  },
  {
   "cell_type": "code",
   "execution_count": null,
   "metadata": {},
   "outputs": [],
   "source": [
    "maskNotNull_m2 = df['m2_final'].notnull()\n",
    "f, ax = plt.subplots()\n",
    "f.set_figwidth(12)\n",
    "f.set_figheight(7)\n",
    "sns.boxplot(x=df.loc[maskNotNull_m2,'property_type'],y=df.loc[maskNotNull_m2,'m2_final'])\n",
    "plt.title(\"Distribución de m2 según propiedad\",fontsize=15)\n",
    "plt.xlabel(\"Tipo de propiedad\",fontsize=11)\n",
    "plt.ylabel(\"m2\",fontsize=11)"
   ]
  },
  {
   "cell_type": "code",
   "execution_count": null,
   "metadata": {},
   "outputs": [],
   "source": [
    "df['outliers_m2'] = None\n",
    "for i in df['property_type'].unique():\n",
    "    rangoInterquartil_m2= df.loc[df['property_type']==i,'m2_final'].quantile(0.75) - df.loc[df['property_type']==i,'m2_final'].quantile(0.25)\n",
    "    umbral_lower_m2 = df.loc[df['property_type']==i,'m2_final'].quantile(0.25) - rangoInterquartil_m2*1.5\n",
    "    umbral_upper_m2 = df.loc[df['property_type']==i,'m2_final'].quantile(0.75) + rangoInterquartil_m2*1.5\n",
    "\n",
    "\n",
    "    df.loc[maskNotNull_Rooms & (df['property_type']==i), 'outliers_m2']= df.loc[maskNotNull_m2 & (df['property_type']==i), 'm2_final'].apply\\\n",
    "                                                                                    (lambda x: \"Outlier superior\" if x >umbral_upper_m2 else(\n",
    "                                                                                 \"Outlier inferior\" if x<umbral_lower_m2 else \n",
    "                                                                                 \"No es outlier\"))\n",
    "\n",
    "outliers_m2 = df['outliers_m2']\n",
    "df = df.drop(columns = ['outliers_m2'])\n",
    "pd.DataFrame(round((outliers_m2.value_counts() / outliers_m2[maskNotNull_m2].shape[0])*100,1))\n",
    "\n",
    "maskOutliers= outliers_m2 !=\"No es outlier\"\n",
    "df.loc[maskOutliers,'m2_final'] = np.NaN"
   ]
  },
  {
   "cell_type": "code",
   "execution_count": null,
   "metadata": {},
   "outputs": [],
   "source": [
    "f, ax = plt.subplots()\n",
    "f.set_figwidth(12)\n",
    "f.set_figheight(7)\n",
    "sns.boxplot(x=df.loc[maskNotNull_m2,'property_type'],y=df.loc[maskNotNull_m2,'m2_final'])\n",
    "plt.title(\"Distribución de m2 según propiedad\",fontsize=15)\n",
    "plt.xlabel(\"Tipo de propiedad\",fontsize=11)\n",
    "plt.ylabel(\"m2\",fontsize=11)"
   ]
  },
  {
   "cell_type": "markdown",
   "metadata": {},
   "source": [
    "## Nuevas variables"
   ]
  },
  {
   "cell_type": "code",
   "execution_count": null,
   "metadata": {},
   "outputs": [],
   "source": [
    "garage_pattern = \"(?P<garage>cochera|garage|estacionamiento)\"\n",
    "garage_regex =  re.compile(garage_pattern)\n",
    "\n",
    "garage_match = df.description.apply(lambda x: x if x is np.NaN else garage_regex.search(x))\n",
    "garage_match_mask = garage_match.notnull()\n",
    "df.loc[garage_match_mask, \"Garage\"] = 1\n",
    "df[\"Garage\"].fillna(0,inplace=True)"
   ]
  },
  {
   "cell_type": "code",
   "execution_count": null,
   "metadata": {},
   "outputs": [],
   "source": [
    "pileta_pattern = \"(?P<pileta>pileta|piscina|picina|pisina)\"\n",
    "pileta_regex =  re.compile(pileta_pattern)\n",
    "\n",
    "pileta_match = df.description.apply(lambda x: x if x is np.NaN else pileta_regex.search(x))\n",
    "pileta_match_mask = pileta_match.notnull()\n",
    "df.loc[pileta_match_mask, \"Pileta\"] = 1\n",
    "df[\"Pileta\"].fillna(0, inplace=True)\n",
    "df.loc[:,\"Pileta\"] = df.loc[:,\"Pileta\"].astype(int)"
   ]
  },
  {
   "cell_type": "code",
   "execution_count": null,
   "metadata": {},
   "outputs": [],
   "source": [
    "jacuzzi_pattern = \"(?P<jacuzzi>jacuzzi|sauna|jacuzi|jacusi)\"\n",
    "jacuzzi_regex =  re.compile(jacuzzi_pattern)\n",
    "\n",
    "jacuzzi_match = df.description.apply(lambda x: x if x is np.NaN else jacuzzi_regex.search(x))\n",
    "jacuzzi_match_mask = jacuzzi_match.notnull()\n",
    "df.loc[jacuzzi_match_mask, \"Jacuzzi\"] = 1\n",
    "df[\"Jacuzzi\"].fillna(0, inplace=True)\n",
    "df.loc[:,\"Jacuzzi\"] = df.loc[:,\"Jacuzzi\"].astype(int)"
   ]
  },
  {
   "cell_type": "code",
   "execution_count": null,
   "metadata": {},
   "outputs": [],
   "source": [
    "balcon_pattern = \"(?P<balcon>balcon|balcones|balcón)\"\n",
    "balcon_regex =  re.compile(balcon_pattern)\n",
    "\n",
    "balcon_match = df.description.apply(lambda x: x if x is np.NaN else balcon_regex.search(x))\n",
    "balcon_match_mask = balcon_match.notnull()\n",
    "df.loc[balcon_match_mask, \"Balcon\"] = 1\n",
    "df[\"Balcon\"].fillna(0, inplace=True)\n",
    "df.loc[:,\"Balcon\"] = df.loc[:,\"Balcon\"].astype(int)"
   ]
  },
  {
   "cell_type": "code",
   "execution_count": null,
   "metadata": {},
   "outputs": [],
   "source": [
    "gym_pattern = \"(?P<gym>gym|gimnasio|gimnacio)\"\n",
    "gym_regex =  re.compile(gym_pattern)\n",
    "\n",
    "gym_match = df.description.apply(lambda x: x if x is np.NaN else gym_regex.search(x))\n",
    "gym_match_mask = gym_match.notnull()\n",
    "df.loc[gym_match_mask, \"Gimnasio\"] = 1\n",
    "df[\"Gimnasio\"].fillna(0, inplace=True)\n",
    "df.loc[:,\"Gimnasio\"] = df.loc[:,\"Gimnasio\"].astype(int)"
   ]
  },
  {
   "cell_type": "code",
   "execution_count": null,
   "metadata": {},
   "outputs": [],
   "source": [
    "seguridad_pattern = \"(?P<seguridad>seguridad|vigilancia|c[a|á]maras|ojo de halc[o|ó]n|vigilador|garita|circuito cerrado|cctv|monitoreo)\"\n",
    "seguridad_regex =  re.compile(seguridad_pattern)\n",
    "\n",
    "seguridad_match = df.description.apply(lambda x: x if x is np.NaN else seguridad_regex.search(x))\n",
    "seguridad_match_mask = seguridad_match.notnull()\n",
    "df.loc[seguridad_match_mask, \"Seguridad\"] = 1\n",
    "df[\"Seguridad\"].fillna(0, inplace=True)\n",
    "df.loc[:,\"Seguridad\"] = df.loc[:,\"Seguridad\"].astype(int)"
   ]
  },
  {
   "cell_type": "code",
   "execution_count": null,
   "metadata": {},
   "outputs": [],
   "source": [
    "quincho_pattern = \"(?P<quincho>quincho|kincho|qincho|(\\ssum\\s))\"\n",
    "quincho_regex =  re.compile(quincho_pattern)\n",
    "\n",
    "quincho_match = df.description.apply(lambda x: x if x is np.NaN else quincho_regex.search(x))\n",
    "quincho_match_mask = quincho_match.notnull()\n",
    "df.loc[quincho_match_mask, \"Quincho\"] = 1\n",
    "df[\"Quincho\"].fillna(0, inplace=True)\n",
    "df.loc[:,\"Quincho\"] = df.loc[:,\"Quincho\"].astype(int)"
   ]
  },
  {
   "cell_type": "code",
   "execution_count": null,
   "metadata": {},
   "outputs": [],
   "source": [
    "estrenar_pattern = \"(?P<estrenar>(a estrenar)|(departamento nuevo))\"\n",
    "estrenar_regex =  re.compile(estrenar_pattern)\n",
    "\n",
    "estrenar_match = df.description.apply(lambda x: x if x is np.NaN else estrenar_regex.search(x))\n",
    "estrenar_match_mask = estrenar_match.notnull()\n",
    "df.loc[estrenar_match_mask, \"Estrenar\"] = 1\n",
    "df[\"Estrenar\"].fillna(0, inplace=True)\n",
    "df.loc[:,\"Estrenar\"] = df.loc[:,\"Estrenar\"].astype(int)"
   ]
  },
  {
   "cell_type": "markdown",
   "metadata": {},
   "source": [
    "## Precio\n",
    "#### Limpieza de Outliers"
   ]
  },
  {
   "cell_type": "code",
   "execution_count": null,
   "metadata": {},
   "outputs": [],
   "source": [
    "maskUSD = df['currency'] == \"USD\"\n",
    "df.loc[maskUSD, 'price_aprox_usd_clean'] = df.loc[maskUSD, 'price']"
   ]
  },
  {
   "cell_type": "code",
   "execution_count": null,
   "metadata": {},
   "outputs": [],
   "source": [
    "maskNotNull_price = df['price_aprox_usd_clean'].notnull()\n",
    "f, ax = plt.subplots()\n",
    "f.set_figwidth(12)\n",
    "f.set_figheight(7)\n",
    "sns.boxplot(x=df.loc[maskNotNull_price,'property_type'],y=df.loc[maskNotNull_price,'price_aprox_usd_clean'])\n",
    "plt.title(\"Distribución de precios según propiedad\",fontsize=15)\n",
    "plt.xlabel(\"Tipo de propiedad\",fontsize=11)\n",
    "plt.ylabel(\"Precios\",fontsize=11)"
   ]
  },
  {
   "cell_type": "code",
   "execution_count": null,
   "metadata": {},
   "outputs": [],
   "source": [
    "df['outliers_precio'] = None\n",
    "for i in df['property_type'].unique():\n",
    "    rangoInterquartil_precio= df.loc[df['property_type']==i,'price_aprox_usd_clean'].quantile(0.75) - df.loc[df['property_type']==i,'price_aprox_usd_clean'].quantile(0.25)\n",
    "    umbral_lower_precio = df.loc[df['property_type']==i,'price_aprox_usd_clean'].quantile(0.25) - rangoInterquartil_precio*1.5\n",
    "    umbral_upper_precio = df.loc[df['property_type']==i,'price_aprox_usd_clean'].quantile(0.75) + rangoInterquartil_precio*1.5\n",
    "\n",
    "\n",
    "    df.loc[maskNotNull_price & (df['property_type']==i), 'outliers_precio']= df.loc[maskNotNull_price & (df['property_type']==i), 'price_aprox_usd_clean'].apply\\\n",
    "                                                                                    (lambda x: \"Outlier superior\" if x >umbral_upper_precio else(\n",
    "                                                                                 \"Outlier inferior\" if x<umbral_lower_precio else \n",
    "                                                                                 \"No es outlier\"))\n",
    "\n",
    "outliers_precio = df['outliers_precio']\n",
    "df = df.drop(columns = ['outliers_precio'])\n",
    "pd.DataFrame(round((outliers_precio.value_counts() / outliers_precio[maskNotNull_price].shape[0])*100,1))\n",
    "\n",
    "maskOutliers= outliers_precio !=\"No es outlier\"\n",
    "df.loc[maskOutliers,'price_aprox_usd_clean'] = np.NaN"
   ]
  },
  {
   "cell_type": "code",
   "execution_count": null,
   "metadata": {},
   "outputs": [],
   "source": [
    "f, ax = plt.subplots()\n",
    "f.set_figwidth(12)\n",
    "f.set_figheight(7)\n",
    "sns.boxplot(x=df.loc[maskNotNull_price,'property_type'],y=df.loc[maskNotNull_price,'price_aprox_usd_clean'])\n",
    "plt.title(\"Distribución de precios según propiedad\",fontsize=15)\n",
    "plt.xlabel(\"Tipo de propiedad\",fontsize=11)\n",
    "plt.ylabel(\"Precios\",fontsize=11)"
   ]
  },
  {
   "cell_type": "markdown",
   "metadata": {},
   "source": [
    "## Precio por m2"
   ]
  },
  {
   "cell_type": "code",
   "execution_count": null,
   "metadata": {},
   "outputs": [],
   "source": [
    "maskNotNull = df['price_aprox_usd_clean'].notnull() & df['m2_final'].notnull()\n",
    "df['price_usd_per_m2_final'] = (df.loc[maskNotNull, 'price_aprox_usd_clean'] / df.loc[maskNotNull, 'm2_final']).round(0)"
   ]
  },
  {
   "cell_type": "markdown",
   "metadata": {},
   "source": [
    "#### Limpieza de Outliers"
   ]
  },
  {
   "cell_type": "code",
   "execution_count": null,
   "metadata": {},
   "outputs": [],
   "source": [
    "maskNotNull_price_m2 = df['price_usd_per_m2_final'].notnull()\n",
    "f, ax = plt.subplots()\n",
    "f.set_figwidth(12)\n",
    "f.set_figheight(7)\n",
    "sns.boxplot(x=df.loc[maskNotNull_price,'property_type'],y=df.loc[maskNotNull_price,'price_usd_per_m2_final'])\n",
    "plt.title(\"Distribución de precios según propiedad\",fontsize=15)\n",
    "plt.xlabel(\"Tipo de propiedad\",fontsize=11)\n",
    "plt.ylabel(\"Precios\",fontsize=11)"
   ]
  },
  {
   "cell_type": "code",
   "execution_count": null,
   "metadata": {},
   "outputs": [],
   "source": [
    "df['outliers_precio_m2'] = None\n",
    "for i in df['property_type'].unique():\n",
    "    rangoInterquartil_precio_m2= df.loc[df['property_type']==i,'price_usd_per_m2_final'].quantile(0.75) - df.loc[df['property_type']==i,'price_usd_per_m2_final'].quantile(0.25)\n",
    "    umbral_lower_precio_m2 = df.loc[df['property_type']==i,'price_usd_per_m2_final'].quantile(0.25) - rangoInterquartil_precio_m2*1.5\n",
    "    umbral_upper_precio_m2 = df.loc[df['property_type']==i,'price_usd_per_m2_final'].quantile(0.75) + rangoInterquartil_precio_m2*1.5\n",
    "\n",
    "\n",
    "    df.loc[maskNotNull_price_m2 & (df['property_type']==i), 'outliers_precio_m2']= df.loc[maskNotNull_price_m2 & (df['property_type']==i), 'price_usd_per_m2_final'].apply\\\n",
    "                                                                                    (lambda x: \"Outlier superior\" if x >umbral_upper_precio_m2 else(\n",
    "                                                                                 \"Outlier inferior\" if x<umbral_lower_precio_m2 else \n",
    "                                                                                 \"No es outlier\"))\n",
    "\n",
    "outliers_precio_m2 = df['outliers_precio_m2']\n",
    "df = df.drop(columns = ['outliers_precio_m2'])\n",
    "pd.DataFrame(round((outliers_precio_m2.value_counts() / outliers_precio_m2[maskNotNull_price_m2].shape[0])*100,1))\n",
    "\n",
    "maskOutliers= outliers_precio_m2 !=\"No es outlier\"\n",
    "df.loc[maskOutliers,'price_usd_per_m2_final'] = np.NaN"
   ]
  },
  {
   "cell_type": "code",
   "execution_count": null,
   "metadata": {},
   "outputs": [],
   "source": [
    "f, ax = plt.subplots()\n",
    "f.set_figwidth(12)\n",
    "f.set_figheight(7)\n",
    "sns.boxplot(x=df.loc[maskNotNull_price,'property_type'],y=df.loc[maskNotNull_price,'price_usd_per_m2_final'])\n",
    "plt.title(\"Distribución de precios según propiedad\",fontsize=15)\n",
    "plt.xlabel(\"Tipo de propiedad\",fontsize=11)\n",
    "plt.ylabel(\"Precios\",fontsize=11)"
   ]
  },
  {
   "cell_type": "markdown",
   "metadata": {},
   "source": [
    "## Desafio 2"
   ]
  },
  {
   "cell_type": "code",
   "execution_count": null,
   "metadata": {},
   "outputs": [],
   "source": [
    "df.drop(columns=['place_with_parent_names',\n",
    "       'country_name', 'state_name', 'price', 'currency', 'price_aprox_usd',\n",
    "       'surface_total_in_m2', 'surface_covered_in_m2', 'price_per_m2', 'rooms', 'description', 'title', 'M2', 'Ambientes', 'surface_total_in_m2_clean', 'covered_pct',\n",
    "       'covered_pct_mean', \"place_with_parent_names_clean\", \"place_name\", \"Ciudad\", \"Departamento\", \"Barrio\", \"price_aprox_usd_clean\", \"price_usd_per_m2\"], inplace = True)"
   ]
  },
  {
   "cell_type": "markdown",
   "metadata": {},
   "source": [
    "## Cargamos los datos limpios"
   ]
  },
  {
   "cell_type": "code",
   "execution_count": null,
   "metadata": {},
   "outputs": [],
   "source": [
    "df = df.dropna(subset=[\"m2_final\", \"Localidad\", \"price_usd_per_m2_final\"])"
   ]
  },
  {
   "cell_type": "code",
   "execution_count": null,
   "metadata": {},
   "outputs": [],
   "source": [
    "df.shape"
   ]
  },
  {
   "cell_type": "markdown",
   "metadata": {},
   "source": [
    "## Definimos nuestras variables endógenas (y) y exógenas (X)."
   ]
  },
  {
   "cell_type": "code",
   "execution_count": null,
   "metadata": {},
   "outputs": [],
   "source": [
    "X = df.drop(columns = \"price_usd_per_m2_final\")\n",
    "y = df['price_usd_per_m2_final']"
   ]
  },
  {
   "cell_type": "markdown",
   "metadata": {},
   "source": [
    "## Separamos sets de entrenamiento y testeo\n",
    "Recordemos que no tienen que tocar `X_test` ni `y_test` hasta que hayan terminado de buscar el mejor modelo posible."
   ]
  },
  {
   "cell_type": "code",
   "execution_count": null,
   "metadata": {},
   "outputs": [],
   "source": [
    "X_train, X_test, y_train, y_test = train_test_split(X,y, shuffle=True, random_state=10)"
   ]
  },
  {
   "cell_type": "markdown",
   "metadata": {},
   "source": [
    "## Generamos las dummies"
   ]
  },
  {
   "cell_type": "code",
   "execution_count": null,
   "metadata": {},
   "outputs": [],
   "source": [
    "ohe = OneHotEncoder(sparse=False, handle_unknown='ignore')\n",
    "dummies = ohe.fit_transform(X_train[[\"property_type\", \"Provincia\", \"Localidad\"]])"
   ]
  },
  {
   "cell_type": "code",
   "execution_count": null,
   "metadata": {},
   "outputs": [],
   "source": [
    "columns_dummies = []\n",
    "for cat in ohe.categories_:\n",
    "\tcolumns_dummies.extend(cat[:])"
   ]
  },
  {
   "cell_type": "code",
   "execution_count": null,
   "metadata": {},
   "outputs": [],
   "source": [
    "dummies = pd.DataFrame(dummies, columns=columns_dummies, index=X_train.index)"
   ]
  },
  {
   "cell_type": "code",
   "execution_count": null,
   "metadata": {},
   "outputs": [],
   "source": [
    "X_train = X_train.join(dummies)\n",
    "X_train = X_train.drop(columns = [\"property_type\", \"Provincia\", \"Localidad\"], axis=1)"
   ]
  },
  {
   "cell_type": "code",
   "execution_count": null,
   "metadata": {},
   "outputs": [],
   "source": [
    "dummies_test = ohe.transform(X_test[[\"property_type\", \"Provincia\", \"Localidad\"]])"
   ]
  },
  {
   "cell_type": "code",
   "execution_count": null,
   "metadata": {},
   "outputs": [],
   "source": [
    "dummies_test = pd.DataFrame(dummies_test, columns=columns_dummies, index=X_test.index)"
   ]
  },
  {
   "cell_type": "code",
   "execution_count": null,
   "metadata": {},
   "outputs": [],
   "source": [
    "X_test = X_test.join(dummies_test)\n",
    "X_test = X_test.drop(columns = [\"property_type\", \"Provincia\", \"Localidad\"], axis=1)"
   ]
  },
  {
   "cell_type": "code",
   "execution_count": null,
   "metadata": {},
   "outputs": [],
   "source": [
    "print(X_train.shape)\n",
    "print(y_train.shape)\n",
    "print(X_test.shape)\n",
    "print(y_test.shape)"
   ]
  },
  {
   "cell_type": "markdown",
   "metadata": {},
   "source": [
    "## Entrenar un modelo súper sencillo como para ver dónde están parados\n",
    "Recomiendo utilizar statsmodels ya que les va a dar algo extra de información respecto de los betas obtenidos"
   ]
  },
  {
   "cell_type": "code",
   "execution_count": null,
   "metadata": {},
   "outputs": [],
   "source": [
    "X_train"
   ]
  },
  {
   "cell_type": "code",
   "execution_count": null,
   "metadata": {},
   "outputs": [],
   "source": [
    "baseline = sm.OLS(y_train, sm.add_constant(X_train)).fit()\n",
    "baseline.summary()"
   ]
  },
  {
   "cell_type": "code",
   "execution_count": null,
   "metadata": {},
   "outputs": [],
   "source": [
    "coef_df = pd.DataFrame(baseline.params)\n",
    "coef_df[\"beta\"] = coef_df[0]\n",
    "coef_df.drop(columns=0, inplace=True)"
   ]
  },
  {
   "cell_type": "code",
   "execution_count": null,
   "metadata": {},
   "outputs": [],
   "source": [
    "coef_df.shape()"
   ]
  },
  {
   "cell_type": "code",
   "execution_count": null,
   "metadata": {},
   "outputs": [],
   "source": [
    "#sns.scatterplot(x=df['cuadrado'],y=df[\"price_usd_per_m2_final\"])"
   ]
  },
  {
   "cell_type": "code",
   "execution_count": null,
   "metadata": {},
   "outputs": [],
   "source": [
    "#sns.scatterplot(x=df['m2_final'],y=df[\"price_usd_per_m2_final\"])"
   ]
  },
  {
   "cell_type": "markdown",
   "metadata": {},
   "source": [
    "## LASSO"
   ]
  },
  {
   "cell_type": "code",
   "execution_count": null,
   "metadata": {},
   "outputs": [],
   "source": [
    "kf = KFold(shuffle=True, random_state=10)"
   ]
  },
  {
   "cell_type": "code",
   "execution_count": null,
   "metadata": {},
   "outputs": [],
   "source": [
    "model_skl_LassoCV = linear_model.LassoCV(alphas=np.linspace(0.0001,0.01, 100), cv=kf, normalize=True)\n",
    "model_skl_LassoCV.fit(X_train, y_train)\n",
    "print(\"Alpha óptimo:\", model_skl_LassoCV.alpha_)\n",
    "print(\"R2 Lasso de entrenamiento:\",model_skl_LassoCV.score(X_train, y_train).round(3))"
   ]
  },
  {
   "cell_type": "code",
   "execution_count": null,
   "metadata": {},
   "outputs": [],
   "source": [
    "betas = pd.DataFrame(data= model_skl_LassoCV.coef_ , index=X_train.columns, columns=['Betas'])\n",
    "\n",
    "betas_0_mask = betas.Betas == 0\n",
    "print(\"Variables igualadas a 0 por Lasso:\", betas_0_mask.sum())"
   ]
  },
  {
   "cell_type": "code",
   "execution_count": null,
   "metadata": {},
   "outputs": [],
   "source": [
    "model_skl_LassoCV = linear_model.LassoCV(alphas=np.linspace(0.001,0.1, 100), cv=kf, normalize=True)\n",
    "model_skl_LassoCV.fit(X_train, y_train)\n",
    "print(\"Alpha óptimo:\", model_skl_LassoCV.alpha_)\n",
    "print(\"R2 Lasso de entrenamiento:\",model_skl_LassoCV.score(X_train, y_train).round(3))"
   ]
  },
  {
   "cell_type": "code",
   "execution_count": null,
   "metadata": {},
   "outputs": [],
   "source": [
    "betas = pd.DataFrame(data= model_skl_LassoCV.coef_ , index=X_train.columns, columns=['Betas'])\n",
    "\n",
    "betas_0_mask = betas.Betas == 0\n",
    "print(\"Variables igualadas a 0 por Lasso:\", betas_0_mask.sum())"
   ]
  },
  {
   "cell_type": "markdown",
   "metadata": {},
   "source": [
    "## RIDGE"
   ]
  },
  {
   "cell_type": "code",
   "execution_count": null,
   "metadata": {},
   "outputs": [],
   "source": [
    "model_skl_RidgeCV = linear_model.RidgeCV(alphas=np.linspace(0.001,0.1, 100), cv=kf, normalize=True)\n",
    "model_skl_RidgeCV.fit(X_train, y_train)\n",
    "print(\"Alpha óptimo:\", model_skl_RidgeCV.alpha_)\n",
    "print(\"R2 Ridge de entrenamiento:\",model_skl_RidgeCV.score(X_train, y_train).round(3))"
   ]
  },
  {
   "cell_type": "markdown",
   "metadata": {},
   "source": [
    "## PREDICCIONES"
   ]
  },
  {
   "cell_type": "code",
   "execution_count": null,
   "metadata": {},
   "outputs": [],
   "source": [
    "prediction_sm = baseline.predict(sm.add_constant(X_test))\n",
    "print ('R2 Statmodels OLS:', r2_score(y_test, prediction_sm).round(3))"
   ]
  },
  {
   "cell_type": "code",
   "execution_count": null,
   "metadata": {},
   "outputs": [],
   "source": [
    "plt.figure(figsize=(8,8))\n",
    "sns.scatterplot(y_test,prediction_sm)\n",
    "sns.lineplot([0,3500],[0,3500],color='black')\n",
    "plt.title(\"Evaluación de predicciónes\")\n",
    "plt.ylabel(\"Y_pred\")\n",
    "plt.xlabel(\"Y_test\")"
   ]
  }
 ],
 "metadata": {
  "kernelspec": {
   "display_name": "Python 3",
   "language": "python",
   "name": "python3"
  },
  "language_info": {
   "codemirror_mode": {
    "name": "ipython",
    "version": 3
   },
   "file_extension": ".py",
   "mimetype": "text/x-python",
   "name": "python",
   "nbconvert_exporter": "python",
   "pygments_lexer": "ipython3",
   "version": "3.7.10"
  }
 },
 "nbformat": 4,
 "nbformat_minor": 4
}
